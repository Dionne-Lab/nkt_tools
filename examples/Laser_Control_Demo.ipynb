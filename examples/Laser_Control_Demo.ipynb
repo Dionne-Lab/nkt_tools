{
 "cells": [
  {
   "cell_type": "code",
   "execution_count": 1,
   "metadata": {},
   "outputs": [
    {
     "name": "stdout",
     "output_type": "stream",
     "text": [
      "Loading x64 DLL from: C:\\Users\\Alexis Coullomb\\Programs\\nkt_tools\\nkt_tools\\NKTPDLL\\x64\\NKTPDLL.dll\n",
      "Searching for connected NKT Laser...\n",
      "NKT Extreme/Fianium Found:\n",
      "Comport:  COM7 Device type:  0x60 at address: 15\n",
      "System Type =  SuperK Extreme\n",
      "Inlet Temperature = 23.6 C\n"
     ]
    }
   ],
   "source": [
    "from nkt_tools.extreme import Extreme\n",
    "# laser = Extreme()\n",
    "laser = Extreme(portname='COM7')\n",
    "laser.set_emission(True)"
   ]
  },
  {
   "cell_type": "code",
   "execution_count": 2,
   "metadata": {},
   "outputs": [],
   "source": [
    "laser.set_power(30)"
   ]
  },
  {
   "cell_type": "code",
   "execution_count": 3,
   "metadata": {},
   "outputs": [
    {
     "name": "stdout",
     "output_type": "stream",
     "text": [
      "Emission on\n"
     ]
    },
    {
     "data": {
      "text/plain": [
       "'0b1'"
      ]
     },
     "execution_count": 3,
     "metadata": {},
     "output_type": "execute_result"
    }
   ],
   "source": [
    "laser.print_status()"
   ]
  },
  {
   "cell_type": "code",
   "execution_count": 4,
   "metadata": {},
   "outputs": [
    {
     "name": "stdout",
     "output_type": "stream",
     "text": [
      "Searching for connected NKT Select...\n",
      "NKT Select Found:\n",
      "Comport:  COM7 Device type:  0x67 at address: 17\n"
     ]
    }
   ],
   "source": [
    "from nkt_tools.select import Select\n",
    "select = Select()"
   ]
  },
  {
   "cell_type": "code",
   "execution_count": 5,
   "metadata": {},
   "outputs": [
    {
     "name": "stdout",
     "output_type": "stream",
     "text": [
      "0:RegResultSuccess\n",
      "Shutter sensor 1\n"
     ]
    },
    {
     "data": {
      "text/plain": [
       "'0b100000000'"
      ]
     },
     "execution_count": 5,
     "metadata": {},
     "output_type": "execute_result"
    }
   ],
   "source": [
    "select.print_status()"
   ]
  },
  {
   "cell_type": "code",
   "execution_count": 6,
   "metadata": {},
   "outputs": [
    {
     "name": "stdout",
     "output_type": "stream",
     "text": [
      "Monitor 1 Readout = 409.5\n",
      "Monitor 2 Readout = 409.5\n",
      "Monitor 1 Gain = 0\n",
      "Monitor 2 Gain = 0\n",
      "RF Switch = 0\n",
      "Monitor Switch = 0\n",
      "Crystal 1 Min Wavelength = 450.0\n",
      "Crystal 1 Max Wavelength = 700.0\n",
      "Crystal 2 Min Wavelength = 650.0\n",
      "Crystal 2 Max Wavelength = 1100.0\n"
     ]
    }
   ],
   "source": [
    "select.read_all_properties()"
   ]
  },
  {
   "cell_type": "code",
   "execution_count": 7,
   "metadata": {},
   "outputs": [
    {
     "name": "stdout",
     "output_type": "stream",
     "text": [
      "Searching for connected NKT RF driver...\n",
      "NKT RF driver Found:\n",
      "Comport:  COM7 Device type:  0x66 at address: 16\n"
     ]
    }
   ],
   "source": [
    "from nkt_tools.rfdriver import RFDriver\n",
    "rfdriver = RFDriver()"
   ]
  },
  {
   "cell_type": "code",
   "execution_count": 8,
   "metadata": {},
   "outputs": [
    {
     "data": {
      "text/plain": [
       "'0b0'"
      ]
     },
     "execution_count": 8,
     "metadata": {},
     "output_type": "execute_result"
    }
   ],
   "source": [
    "rfdriver.print_status()"
   ]
  },
  {
   "cell_type": "code",
   "execution_count": 9,
   "metadata": {},
   "outputs": [
    {
     "name": "stdout",
     "output_type": "stream",
     "text": [
      "RF Power: 0\n",
      "Setup Bits: 2\n",
      "Min Wavelength: 450000\n",
      "Max Wavelength: 700000\n",
      "Crystal Temperature: 23.8\n",
      "Connected Crystal: 1\n",
      "FSK Mode: 0\n"
     ]
    }
   ],
   "source": [
    "rfdriver.read_all_properties()"
   ]
  },
  {
   "cell_type": "code",
   "execution_count": 10,
   "metadata": {},
   "outputs": [],
   "source": [
    "rfdriver.rf_power = 1"
   ]
  },
  {
   "cell_type": "code",
   "execution_count": 11,
   "metadata": {},
   "outputs": [
    {
     "name": "stdout",
     "output_type": "stream",
     "text": [
      "Emission\n"
     ]
    },
    {
     "data": {
      "text/plain": [
       "'0b1'"
      ]
     },
     "execution_count": 11,
     "metadata": {},
     "output_type": "execute_result"
    }
   ],
   "source": [
    "rfdriver.print_status()"
   ]
  },
  {
   "cell_type": "code",
   "execution_count": 12,
   "metadata": {},
   "outputs": [
    {
     "name": "stdout",
     "output_type": "stream",
     "text": [
      "RF Power: 1\n",
      "Setup Bits: 2\n",
      "Min Wavelength: 450000\n",
      "Max Wavelength: 700000\n",
      "Crystal Temperature: 23.8\n",
      "Connected Crystal: 1\n",
      "FSK Mode: 0\n"
     ]
    }
   ],
   "source": [
    "rfdriver.read_all_properties()"
   ]
  },
  {
   "cell_type": "code",
   "execution_count": 13,
   "metadata": {},
   "outputs": [
    {
     "name": "stdout",
     "output_type": "stream",
     "text": [
      "Channels [0, 1, 2, 3, 4, 5, 6, 7] are OFF\n"
     ]
    },
    {
     "data": {
      "text/plain": [
       "{'ON': [], 'OFF': [0, 1, 2, 3, 4, 5, 6, 7]}"
      ]
     },
     "execution_count": 13,
     "metadata": {},
     "output_type": "execute_result"
    }
   ],
   "source": [
    "rfdriver.get_channels()"
   ]
  },
  {
   "cell_type": "code",
   "execution_count": 14,
   "metadata": {},
   "outputs": [],
   "source": [
    "rfdriver.set_wavelength(1, 545)"
   ]
  },
  {
   "cell_type": "code",
   "execution_count": 15,
   "metadata": {},
   "outputs": [],
   "source": [
    "rfdriver.set_amplitude(1, 100)"
   ]
  },
  {
   "cell_type": "code",
   "execution_count": 16,
   "metadata": {},
   "outputs": [
    {
     "name": "stdout",
     "output_type": "stream",
     "text": [
      "Channel 1 is ON, wavelength: 545.0 nm, amplitude: 100.0 %.\n",
      "Channels [0, 2, 3, 4, 5, 6, 7] are OFF\n"
     ]
    },
    {
     "data": {
      "text/plain": [
       "{'ON': [[1, 545.0, 100.0]], 'OFF': [0, 2, 3, 4, 5, 6, 7]}"
      ]
     },
     "execution_count": 16,
     "metadata": {},
     "output_type": "execute_result"
    }
   ],
   "source": [
    "rfdriver.get_channels()"
   ]
  },
  {
   "cell_type": "code",
   "execution_count": 18,
   "metadata": {},
   "outputs": [],
   "source": [
    "# Shutdown\n",
    "rfdriver.rf_power = 0\n",
    "laser.set_emission(False)"
   ]
  }
 ],
 "metadata": {
  "kernelspec": {
   "display_name": "OPM_control",
   "language": "python",
   "name": "python3"
  },
  "language_info": {
   "codemirror_mode": {
    "name": "ipython",
    "version": 3
   },
   "file_extension": ".py",
   "mimetype": "text/x-python",
   "name": "python",
   "nbconvert_exporter": "python",
   "pygments_lexer": "ipython3",
   "version": "3.13.1"
  }
 },
 "nbformat": 4,
 "nbformat_minor": 2
}
